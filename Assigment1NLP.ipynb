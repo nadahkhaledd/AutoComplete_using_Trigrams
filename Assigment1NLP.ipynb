{
 "cells": [
  {
   "cell_type": "code",
   "execution_count": 6,
   "metadata": {
    "colab": {
     "base_uri": "https://localhost:8080/"
    },
    "id": "JtDc_pbU1TCz",
    "outputId": "7786b930-4c86-4232-8f86-5dd8fa780288"
   },
   "outputs": [],
   "source": [
    "import re\n",
    "import nltk\n",
    "from nltk.corpus import brown\n",
    "nltk.download('brown')"
   ]
  },
  {
   "cell_type": "code",
   "execution_count": 2,
   "metadata": {
    "id": "1X3OUPCmRc_s"
   },
   "outputs": [],
   "source": [
    "learned_sents = brown.sents(categories='learned')"
   ]
  },
  {
   "cell_type": "code",
   "execution_count": null,
   "metadata": {
    "id": "AfRem9mECnPU"
   },
   "outputs": [],
   "source": [
    "text_file = open(\"data.txt\", \"w\")\n",
    "\n",
    "for sents in learned_sents:\n",
    "  text_file.write(\" \".join(sents))\n",
    "  text_file.write(\"\\n\")\n",
    "\n",
    "text_file.close()"
   ]
  },
  {
   "cell_type": "code",
   "execution_count": 3,
   "metadata": {
    "id": "lWB0AuZBHpmJ"
   },
   "outputs": [],
   "source": [
    "def trigram(corpus,str):\n",
    "  dict = {}\n",
    "  len_of_str = len(str)\n",
    "  for s in corpus:\n",
    "    if len(s) > 2:\n",
    "      for i in range(0,len(s)):\n",
    "        if i == len(s)-2:\n",
    "          break\n",
    "        if s[i].lower() == str[len_of_str-2].lower() and s[i+1].lower() == str[len_of_str-1].lower():\n",
    "          dict[s[i+2]] = dict.get(s[i+2], 0) + 1\n",
    "\n",
    "  list_of_words = sorted(dict.items(), key = lambda kv:(kv[1], kv[0]), reverse=True)\n",
    "  \n",
    "  if len(list_of_words) > 4:\n",
    "    return list_of_words[0:5]\n",
    "  else:\n",
    "    return list_of_words\n",
    "\n"
   ]
  },
  {
   "cell_type": "code",
   "execution_count": 4,
   "metadata": {
    "colab": {
     "base_uri": "https://localhost:8080/"
    },
    "id": "YhLs2oy2QiK6",
    "outputId": "53f8bf1c-6497-4c7d-fe74-abf6f4730a27"
   },
   "outputs": [
    {
     "name": "stdout",
     "output_type": "stream",
     "text": [
      "the operator\n",
      "the operator Af\n",
      "the operator is\n",
      "the operator induced\n",
      "the operator p\n",
      "the operator must\n",
      "\n",
      "\n",
      "is often\n",
      "is often stated\n",
      "is often called\n",
      "is often shortened\n",
      "is often encountered\n",
      "is often accomplished\n",
      "\n",
      "\n",
      "i am\n",
      "i am to\n",
      "i am not\n",
      "i am confident\n",
      "i am very\n",
      "i am told\n",
      "\n",
      "\n",
      "\n"
     ]
    }
   ],
   "source": [
    "while True:\n",
    "  x = input()\n",
    "  x = \" \".join(x.split())\n",
    "\n",
    "  if(len(x) == 0):\n",
    "    break\n",
    "\n",
    "  list_of_seq = trigram(learned_sents, re.split(\"\\\\W+\", x))\n",
    " \n",
    "  for tuble in list_of_seq:\n",
    "    print(x, tuble[0])\n",
    "  print('\\n')"
   ]
  }
 ],
 "metadata": {
  "colab": {
   "collapsed_sections": [],
   "name": "AssigmentNLP.ipynb",
   "provenance": []
  },
  "kernelspec": {
   "display_name": "Python 3",
   "language": "python",
   "name": "python3"
  },
  "language_info": {
   "codemirror_mode": {
    "name": "ipython",
    "version": 3
   },
   "file_extension": ".py",
   "mimetype": "text/x-python",
   "name": "python",
   "nbconvert_exporter": "python",
   "pygments_lexer": "ipython3",
   "version": "3.8.8"
  }
 },
 "nbformat": 4,
 "nbformat_minor": 1
}
